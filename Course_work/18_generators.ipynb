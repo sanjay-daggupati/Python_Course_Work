{
 "cells": [
  {
   "cell_type": "code",
   "execution_count": 12,
   "id": "bd61538e",
   "metadata": {},
   "outputs": [
    {
     "name": "stdout",
     "output_type": "stream",
     "text": [
      "start\n",
      "1\n",
      "2\n",
      "3\n",
      "End\n"
     ]
    }
   ],
   "source": [
    "def simple_generator():\n",
    "    print(\"start\")\n",
    "    yield 1\n",
    "    yield 2\n",
    "    yield 3 \n",
    "    print(\"End\")\n",
    "gen=simple_generator()\n",
    "try:\n",
    "    print(next(gen))\n",
    "    print(next(gen))\n",
    "    print(next(gen))\n",
    "    print(next(gen))\n",
    "except StopIteration :\n",
    "    pass"
   ]
  },
  {
   "cell_type": "code",
   "execution_count": 14,
   "id": "83121576",
   "metadata": {},
   "outputs": [
    {
     "name": "stdout",
     "output_type": "stream",
     "text": [
      "[0, 1, 4, 9, 16]\n"
     ]
    }
   ],
   "source": [
    "## Function vs Generator \n",
    "def square_numbers(n):\n",
    "    result=[]\n",
    "    for i in range(n):\n",
    "        result.append(i*i)\n",
    "    return result \n",
    "print(square_numbers(5))"
   ]
  },
  {
   "cell_type": "code",
   "execution_count": 15,
   "id": "587a1301",
   "metadata": {},
   "outputs": [
    {
     "name": "stdout",
     "output_type": "stream",
     "text": [
      "0\n",
      "1\n"
     ]
    }
   ],
   "source": [
    "## Generator approach  \n",
    "def square_numbers(n):\n",
    "    for i in range(n):\n",
    "        yield i*i \n",
    "squares =square_numbers(5)\n",
    "print(next(squares))\n",
    "print(next(squares))"
   ]
  }
 ],
 "metadata": {
  "kernelspec": {
   "display_name": "Python 3",
   "language": "python",
   "name": "python3"
  },
  "language_info": {
   "codemirror_mode": {
    "name": "ipython",
    "version": 3
   },
   "file_extension": ".py",
   "mimetype": "text/x-python",
   "name": "python",
   "nbconvert_exporter": "python",
   "pygments_lexer": "ipython3",
   "version": "3.12.0"
  }
 },
 "nbformat": 4,
 "nbformat_minor": 5
}
